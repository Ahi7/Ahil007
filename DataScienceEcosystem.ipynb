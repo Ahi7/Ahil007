{
 "cells": [
  {
   "cell_type": "markdown",
   "id": "02a597dd-b570-4a24-8d70-a3b9b9c7a090",
   "metadata": {},
   "source": [
    "# Data Science Tools and Ecosystem"
   ]
  },
  {
   "cell_type": "markdown",
   "id": "82510b39-3110-42e1-9bf5-02c3528ef463",
   "metadata": {},
   "source": [
    "## Introduction\n",
    "\n",
    "In this notebook, Data Science Tools and Ecosystem are summarized.\n"
   ]
  },
  {
   "cell_type": "markdown",
   "id": "0ef62e93-25c5-4281-b442-e42dd835785e",
   "metadata": {},
   "source": [
    "**Objectives:**\n",
    "\n",
    "- List popular languages for Data Science.\n",
    "- Introduce commonly used libraries in Data Science.\n",
    "- Present examples of arithmetic expressions in Python.\n",
    "- Demonstrate conversion of minutes to hours in Python.\n",
    "- Introduce basic Markdown formatting in Jupyter Notebook."
   ]
  },
  {
   "cell_type": "markdown",
   "id": "67c7a16f-a505-435c-8515-b9fdbd67be9e",
   "metadata": {},
   "source": [
    "## Some of the popular languages that Data Scientists use are:\n",
    "\n",
    "1. **Python**: Python is widely used in the data science community due to its simplicity, versatility, and extensive libraries such as NumPy, Pandas, Matplotlib, and scikit-learn.\n",
    "\n",
    "2. **R**: R is another popular language among data scientists, known for its strong statistical analysis capabilities. It offers numerous packages like ggplot2, dplyr, and tidyr for data manipulation and visualization.\n",
    "\n",
    "3. **SQL**: SQL (Structured Query Language) is essential for data retrieval, manipulation, and management in databases, which is crucial for many data-related tasks in data science."
   ]
  },
  {
   "cell_type": "markdown",
   "id": "07b710a8-9dbd-41e7-870c-93c6ea5c2a16",
   "metadata": {},
   "source": [
    "## Some of the commonly used libraries used by Data Scientists include:\n",
    "\n",
    "1. **NumPy**: NumPy is a fundamental package for scientific computing in Python. It provides support for arrays, matrices, and mathematical functions, making it crucial for numerical operations in data analysis and machine learning.\n",
    "\n",
    "2. **Pandas**: Pandas is a powerful library for data manipulation and analysis in Python. It offers data structures like DataFrames and Series, along with tools for cleaning, transforming, and exploring datasets efficiently.\n",
    "\n",
    "3. **Matplotlib**: Matplotlib is a popular data visualization library in Python. It provides a wide range of plotting functionalities for creating various types of graphs, charts, and visual representations of data."
   ]
  },
  {
   "cell_type": "markdown",
   "id": "11b2279d-a723-4a31-9fd7-f8d5e6a2fcd5",
   "metadata": {},
   "source": [
    "| Data Science Tools     |\n",
    "|------------------------|\n",
    "| Jupyter Notebook       |\n",
    "| RStudio                |\n",
    "| Spyder                 |"
   ]
  },
  {
   "cell_type": "markdown",
   "id": "912d47ee-cc57-43fc-8058-e4afddd4e440",
   "metadata": {},
   "source": [
    "### Below are a few examples of evaluating arithmetic expressions in Python."
   ]
  },
  {
   "cell_type": "code",
   "execution_count": 1,
   "id": "e4245a3a-3047-4086-82f5-f3fefced3b87",
   "metadata": {
    "tags": []
   },
   "outputs": [
    {
     "name": "stdout",
     "output_type": "stream",
     "text": [
      "17\n"
     ]
    }
   ],
   "source": [
    "# This is a simple arithmetic expression to multiply then add integers.\n",
    "result = (3 * 4) + 5\n",
    "print(result)"
   ]
  },
  {
   "cell_type": "code",
   "execution_count": 2,
   "id": "3e325f42-059a-46c0-b77a-4109f244efcf",
   "metadata": {
    "tags": []
   },
   "outputs": [
    {
     "name": "stdout",
     "output_type": "stream",
     "text": [
      "3.3333333333333335\n"
     ]
    }
   ],
   "source": [
    "#This will convert 200 minutes to hours by diving by 60\n",
    "minutes = 200\n",
    "hours = minutes/60\n",
    "print(hours)"
   ]
  },
  {
   "cell_type": "markdown",
   "id": "f6b48744-e87b-47e8-b603-16bdcde41750",
   "metadata": {},
   "source": [
    "## Author\n",
    "Indrasuriyan Ahilan"
   ]
  },
  {
   "cell_type": "code",
   "execution_count": null,
   "id": "c4d34215-7fa3-4349-aa72-14f2609281b3",
   "metadata": {},
   "outputs": [],
   "source": []
  }
 ],
 "metadata": {
  "kernelspec": {
   "display_name": "Python",
   "language": "python",
   "name": "conda-env-python-py"
  },
  "language_info": {
   "codemirror_mode": {
    "name": "ipython",
    "version": 3
   },
   "file_extension": ".py",
   "mimetype": "text/x-python",
   "name": "python",
   "nbconvert_exporter": "python",
   "pygments_lexer": "ipython3",
   "version": "3.7.12"
  }
 },
 "nbformat": 4,
 "nbformat_minor": 5
}
